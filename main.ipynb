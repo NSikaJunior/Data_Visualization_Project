{
 "cells": [
  {
   "cell_type": "code",
   "execution_count": 67,
   "id": "initial_id",
   "metadata": {
    "collapsed": true,
    "ExecuteTime": {
     "end_time": "2024-10-20T06:04:58.582354800Z",
     "start_time": "2024-10-20T06:04:58.562479900Z"
    }
   },
   "outputs": [],
   "source": [
    "import pandas as pd\n",
    "from sklearn.preprocessing import StandardScaler\n",
    "from sklearn.model_selection import train_test_split\n",
    "from keras_tuner import RandomSearch\n",
    "from keras.src.optimizers import Adam\n",
    "from keras.src.layers import Dense\n",
    "from keras import Sequential\n",
    "from keras.src.layers import Lambda\n",
    "import tensorflow as tf\n",
    "from sklearn.linear_model import LinearRegression\n",
    "from sklearn import metrics"
   ]
  },
  {
   "cell_type": "code",
   "outputs": [
    {
     "data": {
      "text/plain": "   num_ligne  Année                                    Origine sociale  \\\n0        3.0   1997     Autres personnes sans activité professionnelle   \n1        5.0   1997  Cadres, professions intellectuelles supérieure...   \n2        8.0   1997                                        Indéterminé   \n3       12.0   1997                                          Retraités   \n4       14.0   1998          Artisans, commerçants, chefs d'entreprise   \n\n   Nombre d'admis au baccalaureat général  \\\n0                                    8844   \n1                                   16326   \n2                                    4326   \n3                                    5650   \n4                                   26226   \n\n   Pourcentage d'admis au baccalaureat général  \\\n0                                         66.4   \n1                                         85.7   \n2                                         61.9   \n3                                         69.8   \n4                                         77.5   \n\n   Nombre d'admis au baccalauréat technologique  \\\n0                                          8679   \n1                                          1994   \n2                                          4334   \n3                                          4819   \n4                                         14619   \n\n   Pourcentage d'admis au baccalauréat technologique  \\\n0                                               71.2   \n1                                               81.3   \n2                                               67.0   \n3                                               72.5   \n4                                               80.9   \n\n   Nombre d'admis au baccalauréat professionnel  \\\n0                                          5883   \n1                                           499   \n2                                          5922   \n3                                          3957   \n4                                          8054   \n\n   Pourcentage d'admis au baccalauréat professionnel  \\\n0                                               73.7   \n1                                               79.8   \n2                                               72.5   \n3                                               75.2   \n4                                               80.0   \n\n   Nombre d'admis au baccalauréat  Pourcentage d'admis au baccalauréat  \n0                           23406                                 69.9  \n1                           18819                                 85.1  \n2                           14582                                 67.4  \n3                           14426                                 72.1  \n4                           48899                                 78.9  ",
      "text/html": "<div>\n<style scoped>\n    .dataframe tbody tr th:only-of-type {\n        vertical-align: middle;\n    }\n\n    .dataframe tbody tr th {\n        vertical-align: top;\n    }\n\n    .dataframe thead th {\n        text-align: right;\n    }\n</style>\n<table border=\"1\" class=\"dataframe\">\n  <thead>\n    <tr style=\"text-align: right;\">\n      <th></th>\n      <th>num_ligne</th>\n      <th>Année</th>\n      <th>Origine sociale</th>\n      <th>Nombre d'admis au baccalaureat général</th>\n      <th>Pourcentage d'admis au baccalaureat général</th>\n      <th>Nombre d'admis au baccalauréat technologique</th>\n      <th>Pourcentage d'admis au baccalauréat technologique</th>\n      <th>Nombre d'admis au baccalauréat professionnel</th>\n      <th>Pourcentage d'admis au baccalauréat professionnel</th>\n      <th>Nombre d'admis au baccalauréat</th>\n      <th>Pourcentage d'admis au baccalauréat</th>\n    </tr>\n  </thead>\n  <tbody>\n    <tr>\n      <th>0</th>\n      <td>3.0</td>\n      <td>1997</td>\n      <td>Autres personnes sans activité professionnelle</td>\n      <td>8844</td>\n      <td>66.4</td>\n      <td>8679</td>\n      <td>71.2</td>\n      <td>5883</td>\n      <td>73.7</td>\n      <td>23406</td>\n      <td>69.9</td>\n    </tr>\n    <tr>\n      <th>1</th>\n      <td>5.0</td>\n      <td>1997</td>\n      <td>Cadres, professions intellectuelles supérieure...</td>\n      <td>16326</td>\n      <td>85.7</td>\n      <td>1994</td>\n      <td>81.3</td>\n      <td>499</td>\n      <td>79.8</td>\n      <td>18819</td>\n      <td>85.1</td>\n    </tr>\n    <tr>\n      <th>2</th>\n      <td>8.0</td>\n      <td>1997</td>\n      <td>Indéterminé</td>\n      <td>4326</td>\n      <td>61.9</td>\n      <td>4334</td>\n      <td>67.0</td>\n      <td>5922</td>\n      <td>72.5</td>\n      <td>14582</td>\n      <td>67.4</td>\n    </tr>\n    <tr>\n      <th>3</th>\n      <td>12.0</td>\n      <td>1997</td>\n      <td>Retraités</td>\n      <td>5650</td>\n      <td>69.8</td>\n      <td>4819</td>\n      <td>72.5</td>\n      <td>3957</td>\n      <td>75.2</td>\n      <td>14426</td>\n      <td>72.1</td>\n    </tr>\n    <tr>\n      <th>4</th>\n      <td>14.0</td>\n      <td>1998</td>\n      <td>Artisans, commerçants, chefs d'entreprise</td>\n      <td>26226</td>\n      <td>77.5</td>\n      <td>14619</td>\n      <td>80.9</td>\n      <td>8054</td>\n      <td>80.0</td>\n      <td>48899</td>\n      <td>78.9</td>\n    </tr>\n  </tbody>\n</table>\n</div>"
     },
     "execution_count": 27,
     "metadata": {},
     "output_type": "execute_result"
    }
   ],
   "source": [
    "df = pd.read_csv(\"fr-en-reussite-au-baccalaureat-origine-sociale.csv\", encoding=\"utf-8\", delimiter=';')\n",
    "df_copy = df.copy()\n",
    "df_copy.head()"
   ],
   "metadata": {
    "collapsed": false,
    "ExecuteTime": {
     "end_time": "2024-10-20T05:01:25.667348700Z",
     "start_time": "2024-10-20T05:01:25.604830300Z"
    }
   },
   "id": "edf7875d207dbcc",
   "execution_count": 27
  },
  {
   "cell_type": "code",
   "outputs": [
    {
     "data": {
      "text/plain": "        Année                                    Origine sociale  \\\n0   -1.669046     Autres personnes sans activité professionnelle   \n1   -1.669046  Cadres, professions intellectuelles supérieure...   \n2   -1.669046                                        Indéterminé   \n3   -1.669046                                          Retraités   \n4   -1.540658          Artisans, commerçants, chefs d'entreprise   \n..        ...                                                ...   \n319  1.540658                                           Ouvriers   \n320  1.669046                           Agriculteurs exploitants   \n321  1.669046                                        Indéterminé   \n322  1.669046                                           Ouvriers   \n323  1.669046     Autres personnes sans activité professionnelle   \n\n     Nombre d'admis au baccalaureat général  \\\n0                                      8844   \n1                                     16326   \n2                                      4326   \n3                                      5650   \n4                                     26226   \n..                                      ...   \n319                                   36419   \n320                                    4282   \n321                                   11707   \n322                                   35609   \n323                                   24894   \n\n     Pourcentage d'admis au baccalaureat général  \\\n0                                           66.4   \n1                                           85.7   \n2                                           61.9   \n3                                           69.8   \n4                                           77.5   \n..                                           ...   \n319                                         94.1   \n320                                         98.0   \n321                                         88.7   \n322                                         93.4   \n323                                         87.7   \n\n     Nombre d'admis au baccalauréat technologique  \\\n0                                            8679   \n1                                            1994   \n2                                            4334   \n3                                            4819   \n4                                           14619   \n..                                            ...   \n319                                         21368   \n320                                          1235   \n321                                         11158   \n322                                         20449   \n323                                         14592   \n\n     Pourcentage d'admis au baccalauréat technologique  \\\n0                                                 71.2   \n1                                                 81.3   \n2                                                 67.0   \n3                                                 72.5   \n4                                                 80.9   \n..                                                 ...   \n319                                               89.3   \n320                                               95.7   \n321                                               88.6   \n322                                               87.5   \n323                                               82.0   \n\n     Nombre d'admis au baccalauréat professionnel  \\\n0                                            5883   \n1                                             499   \n2                                            5922   \n3                                            3957   \n4                                            8054   \n..                                            ...   \n319                                         29518   \n320                                          1405   \n321                                         38350   \n322                                         27438   \n323                                         23641   \n\n     Pourcentage d'admis au baccalauréat professionnel  \\\n0                                                 73.7   \n1                                                 79.8   \n2                                                 72.5   \n3                                                 75.2   \n4                                                 80.0   \n..                                                 ...   \n319                                               81.5   \n320                                               91.5   \n321                                               83.3   \n322                                               81.2   \n323                                               74.2   \n\n     Nombre d'admis au baccalauréat  Pourcentage d'admis au baccalauréat  \n0                             23406                                 69.9  \n1                             18819                                 85.1  \n2                             14582                                 67.4  \n3                             14426                                 72.1  \n4                             48899                                 78.9  \n..                              ...                                  ...  \n319                           87305                                 88.3  \n320                            6922                                 96.2  \n321                           61215                                 85.2  \n322                           83496                                 87.6  \n323                           63127                                 80.9  \n\n[324 rows x 10 columns]",
      "text/html": "<div>\n<style scoped>\n    .dataframe tbody tr th:only-of-type {\n        vertical-align: middle;\n    }\n\n    .dataframe tbody tr th {\n        vertical-align: top;\n    }\n\n    .dataframe thead th {\n        text-align: right;\n    }\n</style>\n<table border=\"1\" class=\"dataframe\">\n  <thead>\n    <tr style=\"text-align: right;\">\n      <th></th>\n      <th>Année</th>\n      <th>Origine sociale</th>\n      <th>Nombre d'admis au baccalaureat général</th>\n      <th>Pourcentage d'admis au baccalaureat général</th>\n      <th>Nombre d'admis au baccalauréat technologique</th>\n      <th>Pourcentage d'admis au baccalauréat technologique</th>\n      <th>Nombre d'admis au baccalauréat professionnel</th>\n      <th>Pourcentage d'admis au baccalauréat professionnel</th>\n      <th>Nombre d'admis au baccalauréat</th>\n      <th>Pourcentage d'admis au baccalauréat</th>\n    </tr>\n  </thead>\n  <tbody>\n    <tr>\n      <th>0</th>\n      <td>-1.669046</td>\n      <td>Autres personnes sans activité professionnelle</td>\n      <td>8844</td>\n      <td>66.4</td>\n      <td>8679</td>\n      <td>71.2</td>\n      <td>5883</td>\n      <td>73.7</td>\n      <td>23406</td>\n      <td>69.9</td>\n    </tr>\n    <tr>\n      <th>1</th>\n      <td>-1.669046</td>\n      <td>Cadres, professions intellectuelles supérieure...</td>\n      <td>16326</td>\n      <td>85.7</td>\n      <td>1994</td>\n      <td>81.3</td>\n      <td>499</td>\n      <td>79.8</td>\n      <td>18819</td>\n      <td>85.1</td>\n    </tr>\n    <tr>\n      <th>2</th>\n      <td>-1.669046</td>\n      <td>Indéterminé</td>\n      <td>4326</td>\n      <td>61.9</td>\n      <td>4334</td>\n      <td>67.0</td>\n      <td>5922</td>\n      <td>72.5</td>\n      <td>14582</td>\n      <td>67.4</td>\n    </tr>\n    <tr>\n      <th>3</th>\n      <td>-1.669046</td>\n      <td>Retraités</td>\n      <td>5650</td>\n      <td>69.8</td>\n      <td>4819</td>\n      <td>72.5</td>\n      <td>3957</td>\n      <td>75.2</td>\n      <td>14426</td>\n      <td>72.1</td>\n    </tr>\n    <tr>\n      <th>4</th>\n      <td>-1.540658</td>\n      <td>Artisans, commerçants, chefs d'entreprise</td>\n      <td>26226</td>\n      <td>77.5</td>\n      <td>14619</td>\n      <td>80.9</td>\n      <td>8054</td>\n      <td>80.0</td>\n      <td>48899</td>\n      <td>78.9</td>\n    </tr>\n    <tr>\n      <th>...</th>\n      <td>...</td>\n      <td>...</td>\n      <td>...</td>\n      <td>...</td>\n      <td>...</td>\n      <td>...</td>\n      <td>...</td>\n      <td>...</td>\n      <td>...</td>\n      <td>...</td>\n    </tr>\n    <tr>\n      <th>319</th>\n      <td>1.540658</td>\n      <td>Ouvriers</td>\n      <td>36419</td>\n      <td>94.1</td>\n      <td>21368</td>\n      <td>89.3</td>\n      <td>29518</td>\n      <td>81.5</td>\n      <td>87305</td>\n      <td>88.3</td>\n    </tr>\n    <tr>\n      <th>320</th>\n      <td>1.669046</td>\n      <td>Agriculteurs exploitants</td>\n      <td>4282</td>\n      <td>98.0</td>\n      <td>1235</td>\n      <td>95.7</td>\n      <td>1405</td>\n      <td>91.5</td>\n      <td>6922</td>\n      <td>96.2</td>\n    </tr>\n    <tr>\n      <th>321</th>\n      <td>1.669046</td>\n      <td>Indéterminé</td>\n      <td>11707</td>\n      <td>88.7</td>\n      <td>11158</td>\n      <td>88.6</td>\n      <td>38350</td>\n      <td>83.3</td>\n      <td>61215</td>\n      <td>85.2</td>\n    </tr>\n    <tr>\n      <th>322</th>\n      <td>1.669046</td>\n      <td>Ouvriers</td>\n      <td>35609</td>\n      <td>93.4</td>\n      <td>20449</td>\n      <td>87.5</td>\n      <td>27438</td>\n      <td>81.2</td>\n      <td>83496</td>\n      <td>87.6</td>\n    </tr>\n    <tr>\n      <th>323</th>\n      <td>1.669046</td>\n      <td>Autres personnes sans activité professionnelle</td>\n      <td>24894</td>\n      <td>87.7</td>\n      <td>14592</td>\n      <td>82.0</td>\n      <td>23641</td>\n      <td>74.2</td>\n      <td>63127</td>\n      <td>80.9</td>\n    </tr>\n  </tbody>\n</table>\n<p>324 rows × 10 columns</p>\n</div>"
     },
     "execution_count": 28,
     "metadata": {},
     "output_type": "execute_result"
    }
   ],
   "source": [
    "df_copy = df_copy.drop(\"num_ligne\", axis=1)\n",
    "scaler = StandardScaler()\n",
    "df_copy['Année'] = scaler.fit_transform(df_copy[['Année']])\n",
    "df_copy"
   ],
   "metadata": {
    "collapsed": false,
    "ExecuteTime": {
     "end_time": "2024-10-20T05:01:28.538498100Z",
     "start_time": "2024-10-20T05:01:28.510229500Z"
    }
   },
   "id": "aa31470eb66eb3bc",
   "execution_count": 28
  },
  {
   "cell_type": "code",
   "outputs": [],
   "source": [
    "def build_model(hp):\n",
    "    _model = Sequential()\n",
    "    \n",
    "    # Tune the number of layers\n",
    "    num_layers = hp.Int('num_layers', min_value=1, max_value=5)\n",
    "    \n",
    "    for i in range(num_layers):\n",
    "        _model.add(Dense(units=hp.Int(f'units_{i}', min_value=32, max_value=512, step=32), activation='relu'))\n",
    "        \n",
    "    _model.add(Dense(units=8, activation='linear'))\n",
    "    \n",
    "    # Apply constraints:\n",
    "    # - For the 1st, 3rd, 5th, and 7th outputs: use ReLU to ensure positive values\n",
    "    # - For the 2nd, 4th, 6th, and 8th outputs: use sigmoid scaled to [0, 100]\n",
    "    _model.add(Lambda(lambda x: tf.concat([tf.nn.relu(x[:, 0:1]),               # 1st value: positive\n",
    "                                           100 * tf.sigmoid(x[:, 1:2]),         # 2nd value: between 0 and 100\n",
    "                                           tf.nn.relu(x[:, 2:3]),               # 3rd value: positive\n",
    "                                           100 * tf.sigmoid(x[:, 3:4]),         # 4th value: between 0 and 100\n",
    "                                           tf.nn.relu(x[:, 4:5]),               # 5th value: positive\n",
    "                                           100 * tf.sigmoid(x[:, 5:6]),         # 6th value: between 0 and 100\n",
    "                                           tf.nn.relu(x[:, 6:7]),               # 7th value: positive\n",
    "                                           100 * tf.sigmoid(x[:, 7:8])], axis=1)))  # 8th value: between 0 and 100\n",
    "    \n",
    "    _model.compile(optimizer=Adam(learning_rate=hp.Float('learning_rate', 1e-4, 1e-2, sampling='LOG')),\n",
    "                   loss='mean_squared_error', metrics=['mae'])\n",
    "    \n",
    "    return _model\n",
    "\n",
    "def tune(xtrain, ytrain, i):\n",
    "    tuner = RandomSearch(build_model, \n",
    "                         objective='val_mae',\n",
    "                         max_trials=10,\n",
    "                         directory='neural_networks',\n",
    "                         project_name=f'dataviz_{i}')\n",
    "\n",
    "    tuner.search(xtrain, ytrain, epochs=100, batch_size=32, validation_split=0.2)    \n",
    "    best_net = tuner.get_best_models(num_models=1)[0]\n",
    "    return best_net\n",
    "\n",
    "def evaluate(input_data : pd.DataFrame, pred_model, scaler_) -> pd.DataFrame:\n",
    "    input_data_copy = input_data.copy()\n",
    "    input_data_copy[\"Année\"] = scaler_.transform(input_data_copy[[\"Année\"]])\n",
    "    \n",
    "    pred = pred_model.predict(input_data_copy)\n",
    "    \n",
    "    return pd.DataFrame(pred, columns=[\"Nombre d\\'admis au baccalaureat général\", \"Pourcentage d\\'admis au baccalaureat général\", \n",
    "        \"Nombre d\\'admis au baccalauréat technologique\", \"Pourcentage d\\'admis au baccalauréat technologique\",\n",
    "        \"Nombre d\\'admis au baccalauréat professionnel\", \"Pourcentage d\\'admis au baccalauréat professionnel\",\n",
    "        \"Nombre d\\'admis au baccalauréat\", \"Pourcentage d\\'admis au baccalauréat\"])"
   ],
   "metadata": {
    "collapsed": false,
    "ExecuteTime": {
     "end_time": "2024-10-20T06:05:08.375710800Z",
     "start_time": "2024-10-20T06:05:08.365549900Z"
    }
   },
   "id": "af57f8dc78d7e690",
   "execution_count": 68
  },
  {
   "cell_type": "code",
   "outputs": [],
   "source": [
    "origins = list(set(df_copy[\"Origine sociale\"].values.tolist()))\n",
    "final_df = df.copy()\n",
    "last_num_ligne = df.shape[0] + 1\n",
    "\n",
    "def predict(i):\n",
    "    global last_num_ligne, final_df\n",
    "    \n",
    "    df_ensemble = df_copy[df_copy[\"Origine sociale\"] == origins[i]]\n",
    "    X = df_ensemble[\"Année\"]\n",
    "    y = df_ensemble.drop([\"Année\", \"Origine sociale\"], axis=1)\n",
    "    X_train, y_train = X, y\n",
    "\n",
    "    best_model = tune(X_train, y_train, i)\n",
    "    input_2024_to_2030 = pd.read_csv(\"fr-en-reussite-prediction-2025-to-2030-input.csv\", encoding=\"utf-8\", delimiter=';')\n",
    "    input_2024_to_2030 = input_2024_to_2030[input_2024_to_2030[\"Origine sociale\"] == origins[i]]\n",
    "    input_copy = input_2024_to_2030.copy()\n",
    "    input_copy.reset_index(drop=True, inplace=True)\n",
    "    input_2024_to_2030 = input_2024_to_2030.drop(\"Origine sociale\", axis=1)\n",
    "    prediction = evaluate(input_2024_to_2030, best_model, scaler)\n",
    "    prediction.to_csv(f\"fr-en-reussite-au-bac-pred-2024-2030-{i}.csv\")\n",
    "    \n",
    "    new_num_ligne = pd.DataFrame([i for i in range(last_num_ligne, last_num_ligne + prediction.shape[0])], columns=[\"num_ligne\"])\n",
    "    final_df = pd.concat([final_df, pd.concat([new_num_ligne, input_copy, prediction], axis=1)], axis=0) \n",
    "    last_num_ligne += prediction.shape[0]"
   ],
   "metadata": {
    "collapsed": false,
    "ExecuteTime": {
     "end_time": "2024-10-20T06:31:26.911145400Z",
     "start_time": "2024-10-20T06:31:26.895038600Z"
    }
   },
   "id": "56d4f4f03e6c623",
   "execution_count": 74
  },
  {
   "cell_type": "code",
   "outputs": [
    {
     "name": "stdout",
     "output_type": "stream",
     "text": [
      "Trial 10 Complete [00h 00m 14s]\n",
      "val_mae: 7703.966796875\n",
      "\n",
      "Best val_mae So Far: 5336.9765625\n",
      "Total elapsed time: 00h 02m 38s\n",
      "\u001B[1m1/1\u001B[0m \u001B[32m━━━━━━━━━━━━━━━━━━━━\u001B[0m\u001B[37m\u001B[0m \u001B[1m0s\u001B[0m 131ms/step\n"
     ]
    },
    {
     "name": "stderr",
     "output_type": "stream",
     "text": [
      "C:\\Users\\Sika Junior\\AppData\\Local\\Programs\\Python\\Python311\\Lib\\site-packages\\keras\\src\\saving\\saving_lib.py:719: UserWarning: Skipping variable loading for optimizer 'adam', because it has 2 variables whereas the saved optimizer has 18 variables. \n",
      "  saveable.load_own_variables(weights_store.get(inner_path))\n"
     ]
    }
   ],
   "source": [
    "for i in range(len(origins)):\n",
    "    predict(i)\n",
    "\n",
    "final_df.to_csv(\"fr-en-reussite-bac-plus-prevision-2025-to-2030.csv\")"
   ],
   "metadata": {
    "collapsed": false
   },
   "id": "bf36d31e2efda902",
   "execution_count": 75
  },
  {
   "cell_type": "code",
   "outputs": [],
   "source": [
    "input_ = pd.read_csv(\"fr-en-reussite-prediction-2025-to-2030-input.csv\", encoding=\"utf-8\", delimiter=';')\n",
    "last_num_ligne = df.shape[0] + 1\n",
    "final_df = df.copy()\n",
    "for i in range(len(origins)):    \n",
    "    input_2 = input_[input_[\"Origine sociale\"] == origins[i]]\n",
    "    input_2.reset_index(drop=True, inplace=True)\n",
    "    pred_i = pd.read_csv(f\"fr-en-reussite-au-bac-pred-2024-2030-{i}.csv\", encoding=\"utf-8\", delimiter=',')\n",
    "    new_num_ligne = pd.DataFrame([i for i in range(last_num_ligne, last_num_ligne + pred_i.shape[0])], columns=[\"num_ligne\"])\n",
    "    final_df = pd.concat([final_df, pd.concat([new_num_ligne, input_2, pred_i], axis=1)], axis=0) \n",
    "    last_num_ligne += pred_i.shape[0]\n",
    "final_df.to_csv(\"fr-en-reussite-bac-plus-prevision-2025-to-2030.csv\")"
   ],
   "metadata": {
    "collapsed": false,
    "ExecuteTime": {
     "end_time": "2024-10-20T07:22:12.707476900Z",
     "start_time": "2024-10-20T07:22:12.621984800Z"
    }
   },
   "id": "fce6995cacd63321",
   "execution_count": 93
  },
  {
   "cell_type": "code",
   "outputs": [
    {
     "data": {
      "text/plain": "        num_ligne        Année  Nombre d'admis au baccalaureat général  \\\ncount  408.000000   408.000000                              408.000000   \nmean   204.500000  2013.500000                            56016.681743   \nstd    117.923704     9.822754                            89283.018120   \nmin      1.000000  1997.000000                                0.000000   \n25%    102.750000  2005.000000                             7779.205550   \n50%    204.500000  2013.500000                            25230.000000   \n75%    306.250000  2022.000000                            50525.750000   \nmax    408.000000  2030.000000                           481109.750000   \n\n       Pourcentage d'admis au baccalaureat général  \\\ncount                                   408.000000   \nmean                                     89.553676   \nstd                                       8.912310   \nmin                                      61.900000   \n25%                                      83.500000   \n50%                                      90.900000   \n75%                                      97.750000   \nmax                                     100.000000   \n\n       Nombre d'admis au baccalauréat technologique  \\\ncount                                    408.000000   \nmean                                   26600.771313   \nstd                                    49637.123313   \nmin                                        0.000000   \n25%                                     2496.250000   \n50%                                    12583.000000   \n75%                                    24475.250000   \nmax                                   343618.530000   \n\n       Pourcentage d'admis au baccalauréat technologique  \\\ncount                                         408.000000   \nmean                                           87.371569   \nstd                                             9.236464   \nmin                                            66.500000   \n25%                                            80.000000   \n50%                                            87.250000   \n75%                                            94.925000   \nmax                                           100.000000   \n\n       Nombre d'admis au baccalauréat professionnel  \\\ncount                                    408.000000   \nmean                                   22242.742111   \nstd                                    35000.831405   \nmin                                        0.000000   \n25%                                     2949.750000   \n50%                                    11351.500000   \n75%                                    23871.250000   \nmax                                   190899.000000   \n\n       Pourcentage d'admis au baccalauréat professionnel  \\\ncount                                         408.000000   \nmean                                           83.752941   \nstd                                            14.163910   \nmin                                             0.000000   \n25%                                            79.100000   \n50%                                            83.000000   \n75%                                            90.025000   \nmax                                           100.000000   \n\n       Nombre d'admis au baccalauréat  Pourcentage d'admis au baccalauréat  \ncount                      408.000000                           408.000000  \nmean                     95693.167127                            86.508824  \nstd                     144382.600988                            14.363350  \nmin                          0.000000                             0.000000  \n25%                      15738.250000                            81.175000  \n50%                      54828.000000                            87.700000  \n75%                      96361.000000                            95.025000  \nmax                     722971.000000                           100.000000  ",
      "text/html": "<div>\n<style scoped>\n    .dataframe tbody tr th:only-of-type {\n        vertical-align: middle;\n    }\n\n    .dataframe tbody tr th {\n        vertical-align: top;\n    }\n\n    .dataframe thead th {\n        text-align: right;\n    }\n</style>\n<table border=\"1\" class=\"dataframe\">\n  <thead>\n    <tr style=\"text-align: right;\">\n      <th></th>\n      <th>num_ligne</th>\n      <th>Année</th>\n      <th>Nombre d'admis au baccalaureat général</th>\n      <th>Pourcentage d'admis au baccalaureat général</th>\n      <th>Nombre d'admis au baccalauréat technologique</th>\n      <th>Pourcentage d'admis au baccalauréat technologique</th>\n      <th>Nombre d'admis au baccalauréat professionnel</th>\n      <th>Pourcentage d'admis au baccalauréat professionnel</th>\n      <th>Nombre d'admis au baccalauréat</th>\n      <th>Pourcentage d'admis au baccalauréat</th>\n    </tr>\n  </thead>\n  <tbody>\n    <tr>\n      <th>count</th>\n      <td>408.000000</td>\n      <td>408.000000</td>\n      <td>408.000000</td>\n      <td>408.000000</td>\n      <td>408.000000</td>\n      <td>408.000000</td>\n      <td>408.000000</td>\n      <td>408.000000</td>\n      <td>408.000000</td>\n      <td>408.000000</td>\n    </tr>\n    <tr>\n      <th>mean</th>\n      <td>204.500000</td>\n      <td>2013.500000</td>\n      <td>56016.681743</td>\n      <td>89.553676</td>\n      <td>26600.771313</td>\n      <td>87.371569</td>\n      <td>22242.742111</td>\n      <td>83.752941</td>\n      <td>95693.167127</td>\n      <td>86.508824</td>\n    </tr>\n    <tr>\n      <th>std</th>\n      <td>117.923704</td>\n      <td>9.822754</td>\n      <td>89283.018120</td>\n      <td>8.912310</td>\n      <td>49637.123313</td>\n      <td>9.236464</td>\n      <td>35000.831405</td>\n      <td>14.163910</td>\n      <td>144382.600988</td>\n      <td>14.363350</td>\n    </tr>\n    <tr>\n      <th>min</th>\n      <td>1.000000</td>\n      <td>1997.000000</td>\n      <td>0.000000</td>\n      <td>61.900000</td>\n      <td>0.000000</td>\n      <td>66.500000</td>\n      <td>0.000000</td>\n      <td>0.000000</td>\n      <td>0.000000</td>\n      <td>0.000000</td>\n    </tr>\n    <tr>\n      <th>25%</th>\n      <td>102.750000</td>\n      <td>2005.000000</td>\n      <td>7779.205550</td>\n      <td>83.500000</td>\n      <td>2496.250000</td>\n      <td>80.000000</td>\n      <td>2949.750000</td>\n      <td>79.100000</td>\n      <td>15738.250000</td>\n      <td>81.175000</td>\n    </tr>\n    <tr>\n      <th>50%</th>\n      <td>204.500000</td>\n      <td>2013.500000</td>\n      <td>25230.000000</td>\n      <td>90.900000</td>\n      <td>12583.000000</td>\n      <td>87.250000</td>\n      <td>11351.500000</td>\n      <td>83.000000</td>\n      <td>54828.000000</td>\n      <td>87.700000</td>\n    </tr>\n    <tr>\n      <th>75%</th>\n      <td>306.250000</td>\n      <td>2022.000000</td>\n      <td>50525.750000</td>\n      <td>97.750000</td>\n      <td>24475.250000</td>\n      <td>94.925000</td>\n      <td>23871.250000</td>\n      <td>90.025000</td>\n      <td>96361.000000</td>\n      <td>95.025000</td>\n    </tr>\n    <tr>\n      <th>max</th>\n      <td>408.000000</td>\n      <td>2030.000000</td>\n      <td>481109.750000</td>\n      <td>100.000000</td>\n      <td>343618.530000</td>\n      <td>100.000000</td>\n      <td>190899.000000</td>\n      <td>100.000000</td>\n      <td>722971.000000</td>\n      <td>100.000000</td>\n    </tr>\n  </tbody>\n</table>\n</div>"
     },
     "execution_count": 95,
     "metadata": {},
     "output_type": "execute_result"
    }
   ],
   "source": [
    "dddf = pd.read_csv(\"fr-en-reussite-bac-plus-prevision-2025-to-2030.csv\", delimiter=',', encoding=\"utf8\")\n",
    "dddf.describe()"
   ],
   "metadata": {
    "collapsed": false,
    "ExecuteTime": {
     "end_time": "2024-10-20T07:27:54.540669300Z",
     "start_time": "2024-10-20T07:27:54.490724300Z"
    }
   },
   "id": "f1c648feaeb1ce93",
   "execution_count": 95
  },
  {
   "cell_type": "code",
   "outputs": [],
   "source": [],
   "metadata": {
    "collapsed": false
   },
   "id": "d6358d5ab8d2a4da"
  }
 ],
 "metadata": {
  "kernelspec": {
   "display_name": "Python 3",
   "language": "python",
   "name": "python3"
  },
  "language_info": {
   "codemirror_mode": {
    "name": "ipython",
    "version": 2
   },
   "file_extension": ".py",
   "mimetype": "text/x-python",
   "name": "python",
   "nbconvert_exporter": "python",
   "pygments_lexer": "ipython2",
   "version": "2.7.6"
  }
 },
 "nbformat": 4,
 "nbformat_minor": 5
}
